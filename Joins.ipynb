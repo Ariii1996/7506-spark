{
 "cells": [
  {
   "cell_type": "markdown",
   "metadata": {},
   "source": [
    "## Joins"
   ]
  },
  {
   "cell_type": "code",
   "execution_count": 2,
   "metadata": {},
   "outputs": [],
   "source": [
    "people_data = [\n",
    "    (1,'People A'),\n",
    "    (2,'People B'),\n",
    "    (3,'People C'),\n",
    "    (4,'People D'),\n",
    "    (5,'People E')\n",
    "]\n",
    "\n",
    "people = sc.parallelize(people_data)"
   ]
  },
  {
   "cell_type": "code",
   "execution_count": 3,
   "metadata": {},
   "outputs": [
    {
     "data": {
      "text/plain": [
       "ParallelCollectionRDD[1] at parallelize at PythonRDD.scala:195"
      ]
     },
     "execution_count": 3,
     "metadata": {},
     "output_type": "execute_result"
    }
   ],
   "source": [
    "people"
   ]
  },
  {
   "cell_type": "code",
   "execution_count": 4,
   "metadata": {},
   "outputs": [
    {
     "data": {
      "text/plain": [
       "[(1, 'People A'),\n",
       " (2, 'People B'),\n",
       " (3, 'People C'),\n",
       " (4, 'People D'),\n",
       " (5, 'People E')]"
      ]
     },
     "execution_count": 4,
     "metadata": {},
     "output_type": "execute_result"
    }
   ],
   "source": [
    "people.collect()"
   ]
  },
  {
   "cell_type": "code",
   "execution_count": 5,
   "metadata": {},
   "outputs": [],
   "source": [
    "subject_data = [(1, 'Subject 1'),\n",
    "               (2, 'Subject 2'),\n",
    "               (200, 'Subject 1500'),\n",
    "               (2, 'Subject 2 Repetido')]\n",
    "\n",
    "subjects = sc.parallelize(subject_data)"
   ]
  },
  {
   "cell_type": "code",
   "execution_count": 6,
   "metadata": {},
   "outputs": [
    {
     "data": {
      "text/plain": [
       "[(1, 'Subject 1'),\n",
       " (2, 'Subject 2'),\n",
       " (200, 'Subject 1500'),\n",
       " (2, 'Subject 2 Repetido')]"
      ]
     },
     "execution_count": 6,
     "metadata": {},
     "output_type": "execute_result"
    }
   ],
   "source": [
    "subjects.collect()"
   ]
  },
  {
   "cell_type": "markdown",
   "metadata": {},
   "source": [
    "## Inner Join (Join)"
   ]
  },
  {
   "cell_type": "markdown",
   "metadata": {},
   "source": [
    "Cuando se llama para sets de datos del tipo (K,V) y (K,W) devuelve un set de datos del tipo (K, (V,W)) con todos los pares de elementos para cada key. (especificamente los que hay en comun por esa clave en ambos sets de datos)"
   ]
  },
  {
   "cell_type": "code",
   "execution_count": 7,
   "metadata": {},
   "outputs": [
    {
     "data": {
      "text/plain": [
       "[(1, ('People A', 'Subject 1')),\n",
       " (2, ('People B', 'Subject 2')),\n",
       " (2, ('People B', 'Subject 2 Repetido'))]"
      ]
     },
     "execution_count": 7,
     "metadata": {},
     "output_type": "execute_result"
    }
   ],
   "source": [
    "people.join(subjects).collect()"
   ]
  },
  {
   "cell_type": "markdown",
   "metadata": {},
   "source": [
    "## Left Outer Join"
   ]
  },
  {
   "cell_type": "markdown",
   "metadata": {},
   "source": [
    "Cuando se llama para sets de datos del tipo (K,V) y (K,W) devuelve un set de datos del tipo (K, (V,W)) asegurandonos que todos los datos del set de datos izquierdo estaran en el resultado del join."
   ]
  },
  {
   "cell_type": "code",
   "execution_count": 8,
   "metadata": {},
   "outputs": [
    {
     "data": {
      "text/plain": [
       "[(4, ('People D', None)),\n",
       " (1, ('People A', 'Subject 1')),\n",
       " (5, ('People E', None)),\n",
       " (2, ('People B', 'Subject 2')),\n",
       " (2, ('People B', 'Subject 2 Repetido')),\n",
       " (3, ('People C', None))]"
      ]
     },
     "execution_count": 8,
     "metadata": {},
     "output_type": "execute_result"
    }
   ],
   "source": [
    "people.leftOuterJoin(subjects).collect()"
   ]
  },
  {
   "cell_type": "markdown",
   "metadata": {},
   "source": [
    "## Right Outer Join"
   ]
  },
  {
   "cell_type": "markdown",
   "metadata": {},
   "source": [
    "Cuando se llama para sets de datos del tipo (K,V) y (K,W) devuelve un set de datos del tipo (K, (V,W)) asegurandonos que todos los datos del set de datos derecho estaran en el resultado del join."
   ]
  },
  {
   "cell_type": "code",
   "execution_count": 9,
   "metadata": {},
   "outputs": [
    {
     "data": {
      "text/plain": [
       "[(200, (None, 'Subject 1500')),\n",
       " (1, ('People A', 'Subject 1')),\n",
       " (2, ('People B', 'Subject 2')),\n",
       " (2, ('People B', 'Subject 2 Repetido'))]"
      ]
     },
     "execution_count": 9,
     "metadata": {},
     "output_type": "execute_result"
    }
   ],
   "source": [
    "people.rightOuterJoin(subjects).collect()"
   ]
  },
  {
   "cell_type": "markdown",
   "metadata": {},
   "source": [
    "## Outer/Full Join"
   ]
  },
  {
   "cell_type": "markdown",
   "metadata": {},
   "source": [
    "Cuando se llama para sets de datos del tipo (K,V) y (K,W) devuelve un set de datos del tipo (K, (V,W)) asegurandonos que todos los datos de ambos set de datos estaran aunque no haya match de keys."
   ]
  },
  {
   "cell_type": "code",
   "execution_count": 10,
   "metadata": {},
   "outputs": [
    {
     "data": {
      "text/plain": [
       "[(200, (None, 'Subject 1500')),\n",
       " (4, ('People D', None)),\n",
       " (1, ('People A', 'Subject 1')),\n",
       " (5, ('People E', None)),\n",
       " (2, ('People B', 'Subject 2')),\n",
       " (2, ('People B', 'Subject 2 Repetido')),\n",
       " (3, ('People C', None))]"
      ]
     },
     "execution_count": 10,
     "metadata": {},
     "output_type": "execute_result"
    }
   ],
   "source": [
    "people.fullOuterJoin(subjects).collect()"
   ]
  },
  {
   "cell_type": "markdown",
   "metadata": {},
   "source": [
    "## Broadcast Join (map-side join)"
   ]
  },
  {
   "cell_type": "markdown",
   "metadata": {},
   "source": [
    "### Variable Broadcast"
   ]
  },
  {
   "cell_type": "markdown",
   "metadata": {},
   "source": [
    "Una variable Broadcast nos permite mantener una variable solo lectura cacheada en cada una de las maquinas del cluster en vez de enviar esa informacion con cada una de las tareas que se envian al cluster.\n",
    "\n",
    "Esto es particularmente util cuando cuando tareas a partir de multiples etapas (stages) necesitan la misma información o cuando cachear información de forma deserializada es importante.\n",
    "\n",
    "Tener en cuenta que esto **es posible** cuando uno de los data sets o conjunto de datos **es lo suficientemente pequeño para ser broadcasteado a todos los nodos/workers del cluster**."
   ]
  },
  {
   "cell_type": "code",
   "execution_count": 11,
   "metadata": {},
   "outputs": [],
   "source": [
    "# Vamos a suponer que tenemos un RDD de productos por sus IDs identificando ventas de los mismos\n",
    "prodsList = [1,11,1,4,5,11,2,3,4,5,6,4,5,4,3,2,1,11,2,3,4,5,6,4,3,2,1,1]\n",
    "prods = sc.parallelize(prodsList,3)"
   ]
  },
  {
   "cell_type": "code",
   "execution_count": 12,
   "metadata": {},
   "outputs": [],
   "source": [
    "# Un hash con los productos y sus nombres\n",
    "productNames = {1:'papas',\n",
    "                2:'cebollas',\n",
    "                3:'tomates',\n",
    "                4:'zanahorias',\n",
    "                5:'batatas',\n",
    "                6:'peras',\n",
    "                7:'cilantro',\n",
    "                8:'apio',\n",
    "                9:'morrones',\n",
    "                10:'manzanas',\n",
    "                11:'naranjas'}\n",
    "\n",
    "#hacemos un broadcast de la variable\n",
    "bproductNames = sc.broadcast(productNames)"
   ]
  },
  {
   "cell_type": "code",
   "execution_count": 13,
   "metadata": {},
   "outputs": [
    {
     "data": {
      "text/plain": [
       "[(3, 4), (1, 5), (4, 6), (2, 4), (5, 4)]"
      ]
     },
     "execution_count": 13,
     "metadata": {},
     "output_type": "execute_result"
    }
   ],
   "source": [
    "# Buscamos los productos que se vendieron \n",
    "# mas de 4 veces\n",
    "popularProds = prods.map(lambda x:(x,1))\\\n",
    "    .reduceByKey(lambda x,y:x+y)\\\n",
    "    .filter(lambda x:x[1]>=4)\n",
    "popularProds.collect()"
   ]
  },
  {
   "cell_type": "markdown",
   "metadata": {},
   "source": [
    "El join se realiza de forma implicita usando un map y dentro del mismo accediendo a la informacion de la variable a la que se realizo el broadcast via .value"
   ]
  },
  {
   "cell_type": "code",
   "execution_count": 14,
   "metadata": {},
   "outputs": [
    {
     "data": {
      "text/plain": [
       "[('tomates', 3, 4),\n",
       " ('papas', 1, 5),\n",
       " ('zanahorias', 4, 6),\n",
       " ('cebollas', 2, 4),\n",
       " ('batatas', 5, 4)]"
      ]
     },
     "execution_count": 14,
     "metadata": {},
     "output_type": "execute_result"
    }
   ],
   "source": [
    "# Buscamos los nombres\n",
    "# map side-join\n",
    "# a partir del broadcast la informacion de los nombres de los productos que fueron distribuidos\n",
    "# a los nodos en el cluster y son consultados en el map (haciendo el join implicito)\n",
    "popularProds = popularProds.map(\n",
    "    lambda x:(bproductNames.value[x[0]],x[0],x[1]))\n",
    "popularProds.collect()"
   ]
  },
  {
   "cell_type": "markdown",
   "metadata": {},
   "source": [
    "### Ventajas"
   ]
  },
  {
   "cell_type": "markdown",
   "metadata": {},
   "source": [
    "Cuando un valor es \"broadcasteado\" al cluster, este es copiado a los nodos/workers **sólo una vez** (en vez de múltiples veces si la información fuera a enviarse en cada task). De esta forma se resuelve la consulta más rapidamente."
   ]
  },
  {
   "cell_type": "code",
   "execution_count": null,
   "metadata": {},
   "outputs": [],
   "source": []
  }
 ],
 "metadata": {
  "kernelspec": {
   "display_name": "Python 2",
   "language": "python",
   "name": "python2"
  },
  "language_info": {
   "codemirror_mode": {
    "name": "ipython",
    "version": 2
   },
   "file_extension": ".py",
   "mimetype": "text/x-python",
   "name": "python",
   "nbconvert_exporter": "python",
   "pygments_lexer": "ipython2",
   "version": "2.7.15rc1"
  }
 },
 "nbformat": 4,
 "nbformat_minor": 1
}
