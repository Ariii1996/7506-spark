{
 "cells": [
  {
   "cell_type": "markdown",
   "metadata": {},
   "source": [
    "# San Francisco Crime"
   ]
  },
  {
   "cell_type": "markdown",
   "metadata": {},
   "source": [
    "## Leo CSV como RDD"
   ]
  },
  {
   "cell_type": "code",
   "execution_count": 1,
   "metadata": {},
   "outputs": [],
   "source": [
    "dataframe = sqlContext.read.csv('../../data/sf.csv', header=True)"
   ]
  },
  {
   "cell_type": "code",
   "execution_count": 2,
   "metadata": {},
   "outputs": [
    {
     "data": {
      "text/plain": [
       "MapPartitionsRDD[12] at javaToPython at NativeMethodAccessorImpl.java:0"
      ]
     },
     "execution_count": 2,
     "metadata": {},
     "output_type": "execute_result"
    }
   ],
   "source": [
    "data = dataframe.rdd\n",
    "data"
   ]
  },
  {
   "cell_type": "markdown",
   "metadata": {},
   "source": [
    "## Primer registro de los datos"
   ]
  },
  {
   "cell_type": "code",
   "execution_count": 3,
   "metadata": {},
   "outputs": [
    {
     "data": {
      "text/plain": [
       "Row(Dates=u'2015-05-13 23:53:00', Category=u'WARRANTS', Descript=u'WARRANT ARREST', DayOfWeek=u'Wednesday', PdDistrict=u'NORTHERN', Resolution=u'ARREST, BOOKED', Address=u'OAK ST / LAGUNA ST', X=u'-122.425891675136', Y=u'37.7745985956747')"
      ]
     },
     "execution_count": 3,
     "metadata": {},
     "output_type": "execute_result"
    }
   ],
   "source": [
    "data.first()"
   ]
  },
  {
   "cell_type": "markdown",
   "metadata": {},
   "source": [
    "## Cantidad de registros"
   ]
  },
  {
   "cell_type": "code",
   "execution_count": 4,
   "metadata": {},
   "outputs": [
    {
     "data": {
      "text/plain": [
       "878049"
      ]
     },
     "execution_count": 4,
     "metadata": {},
     "output_type": "execute_result"
    }
   ],
   "source": [
    "data.count()"
   ]
  },
  {
   "cell_type": "markdown",
   "metadata": {},
   "source": [
    "## Cantidad de categorías de crímenes"
   ]
  },
  {
   "cell_type": "code",
   "execution_count": 12,
   "metadata": {},
   "outputs": [
    {
     "name": "stdout",
     "output_type": "stream",
     "text": [
      "CPU times: user 6.5 ms, sys: 13 ms, total: 19.5 ms\n",
      "Wall time: 67.4 ms\n"
     ]
    }
   ],
   "source": [
    "%%time\n",
    "categories = data.map(lambda x: (x.Category)).distinct()"
   ]
  },
  {
   "cell_type": "code",
   "execution_count": 10,
   "metadata": {},
   "outputs": [
    {
     "name": "stdout",
     "output_type": "stream",
     "text": [
      "CPU times: user 23.1 ms, sys: 2.51 ms, total: 25.6 ms\n",
      "Wall time: 23.3 s\n"
     ]
    },
    {
     "data": {
      "text/plain": [
       "39"
      ]
     },
     "execution_count": 10,
     "metadata": {},
     "output_type": "execute_result"
    }
   ],
   "source": [
    "%%time\n",
    "data.map(lambda x: (x.Category, 1)).reduceByKey(lambda a,b: a).count()"
   ]
  },
  {
   "cell_type": "markdown",
   "metadata": {},
   "source": [
    "## Categorías de crímenes"
   ]
  },
  {
   "cell_type": "code",
   "execution_count": 13,
   "metadata": {},
   "outputs": [
    {
     "data": {
      "text/plain": [
       "[u'WEAPON LAWS',\n",
       " u'WARRANTS',\n",
       " u'LOITERING',\n",
       " u'EMBEZZLEMENT',\n",
       " u'DRIVING UNDER THE INFLUENCE',\n",
       " u'SEX OFFENSES FORCIBLE',\n",
       " u'ROBBERY',\n",
       " u'BURGLARY',\n",
       " u'PORNOGRAPHY/OBSCENE MAT',\n",
       " u'RECOVERED VEHICLE',\n",
       " u'BRIBERY',\n",
       " u'BAD CHECKS',\n",
       " u'SUSPICIOUS OCC',\n",
       " u'ARSON',\n",
       " u'PROSTITUTION',\n",
       " u'VANDALISM',\n",
       " u'LIQUOR LAWS',\n",
       " u'TREA',\n",
       " u'VEHICLE THEFT',\n",
       " u'ASSAULT',\n",
       " u'FAMILY OFFENSES',\n",
       " u'RUNAWAY',\n",
       " u'EXTORTION',\n",
       " u'KIDNAPPING',\n",
       " u'MISSING PERSON',\n",
       " u'DISORDERLY CONDUCT',\n",
       " u'SECONDARY CODES',\n",
       " u'STOLEN PROPERTY',\n",
       " u'FORGERY/COUNTERFEITING',\n",
       " u'TRESPASS',\n",
       " u'SUICIDE',\n",
       " u'DRUNKENNESS',\n",
       " u'FRAUD',\n",
       " u'NON-CRIMINAL',\n",
       " u'GAMBLING',\n",
       " u'DRUG/NARCOTIC',\n",
       " u'OTHER OFFENSES',\n",
       " u'SEX OFFENSES NON FORCIBLE',\n",
       " u'LARCENY/THEFT']"
      ]
     },
     "execution_count": 13,
     "metadata": {},
     "output_type": "execute_result"
    }
   ],
   "source": [
    "categories.collect()"
   ]
  },
  {
   "cell_type": "markdown",
   "metadata": {},
   "source": [
    "## Categorías de crímenes ordenadas alfabeticamente"
   ]
  },
  {
   "cell_type": "code",
   "execution_count": 14,
   "metadata": {},
   "outputs": [
    {
     "data": {
      "text/plain": [
       "[u'ARSON',\n",
       " u'ASSAULT',\n",
       " u'BAD CHECKS',\n",
       " u'BRIBERY',\n",
       " u'BURGLARY',\n",
       " u'DISORDERLY CONDUCT',\n",
       " u'DRIVING UNDER THE INFLUENCE',\n",
       " u'DRUG/NARCOTIC',\n",
       " u'DRUNKENNESS',\n",
       " u'EMBEZZLEMENT',\n",
       " u'EXTORTION',\n",
       " u'FAMILY OFFENSES',\n",
       " u'FORGERY/COUNTERFEITING',\n",
       " u'FRAUD',\n",
       " u'GAMBLING',\n",
       " u'KIDNAPPING',\n",
       " u'LARCENY/THEFT',\n",
       " u'LIQUOR LAWS',\n",
       " u'LOITERING',\n",
       " u'MISSING PERSON',\n",
       " u'NON-CRIMINAL',\n",
       " u'OTHER OFFENSES',\n",
       " u'PORNOGRAPHY/OBSCENE MAT',\n",
       " u'PROSTITUTION',\n",
       " u'RECOVERED VEHICLE',\n",
       " u'ROBBERY',\n",
       " u'RUNAWAY',\n",
       " u'SECONDARY CODES',\n",
       " u'SEX OFFENSES FORCIBLE',\n",
       " u'SEX OFFENSES NON FORCIBLE',\n",
       " u'STOLEN PROPERTY',\n",
       " u'SUICIDE',\n",
       " u'SUSPICIOUS OCC',\n",
       " u'TREA',\n",
       " u'TRESPASS',\n",
       " u'VANDALISM',\n",
       " u'VEHICLE THEFT',\n",
       " u'WARRANTS',\n",
       " u'WEAPON LAWS']"
      ]
     },
     "execution_count": 14,
     "metadata": {},
     "output_type": "execute_result"
    }
   ],
   "source": [
    "categories.takeOrdered(40)"
   ]
  },
  {
   "cell_type": "markdown",
   "metadata": {},
   "source": [
    "## Las 10 categorías de crímenes con más casos"
   ]
  },
  {
   "cell_type": "code",
   "execution_count": 16,
   "metadata": {},
   "outputs": [
    {
     "name": "stdout",
     "output_type": "stream",
     "text": [
      "CPU times: user 19.8 ms, sys: 7.95 ms, total: 27.8 ms\n",
      "Wall time: 23.3 s\n"
     ]
    },
    {
     "data": {
      "text/plain": [
       "[(u'LARCENY/THEFT', 174900)]"
      ]
     },
     "execution_count": 16,
     "metadata": {},
     "output_type": "execute_result"
    }
   ],
   "source": [
    "%%time\n",
    "data.map(lambda x: (x.Category, 1))\\\n",
    "    .reduceByKey(lambda x,y: x+y)\\\n",
    "    .takeOrdered(1, key = lambda x: -x[1])"
   ]
  },
  {
   "cell_type": "markdown",
   "metadata": {},
   "source": [
    "## La categoría con más casos"
   ]
  },
  {
   "cell_type": "code",
   "execution_count": 17,
   "metadata": {},
   "outputs": [
    {
     "name": "stdout",
     "output_type": "stream",
     "text": [
      "CPU times: user 29.8 ms, sys: 3.24 ms, total: 33 ms\n",
      "Wall time: 22.2 s\n"
     ]
    },
    {
     "data": {
      "text/plain": [
       "(u'LARCENY/THEFT', 174900)"
      ]
     },
     "execution_count": 17,
     "metadata": {},
     "output_type": "execute_result"
    }
   ],
   "source": [
    "%%time\n",
    "data.map(lambda x: (x.Category, 1))\\\n",
    "    .reduceByKey(lambda x,y: x+y)\\\n",
    "    .reduce(lambda x,y: x if x[1]>y[1] else y)"
   ]
  },
  {
   "cell_type": "markdown",
   "metadata": {},
   "source": [
    "## Día de la semana con más casos de 'Driving under the influence'"
   ]
  },
  {
   "cell_type": "code",
   "execution_count": 19,
   "metadata": {},
   "outputs": [
    {
     "name": "stdout",
     "output_type": "stream",
     "text": [
      "CPU times: user 21.2 ms, sys: 5.75 ms, total: 26.9 ms\n",
      "Wall time: 23.9 s\n"
     ]
    },
    {
     "data": {
      "text/plain": [
       "[(u'Saturday', 457),\n",
       " (u'Sunday', 442),\n",
       " (u'Friday', 352),\n",
       " (u'Thursday', 282),\n",
       " (u'Monday', 263),\n",
       " (u'Tuesday', 251),\n",
       " (u'Wednesday', 221)]"
      ]
     },
     "execution_count": 19,
     "metadata": {},
     "output_type": "execute_result"
    }
   ],
   "source": [
    "%%time\n",
    "data.filter(lambda x: x.Category == 'DRIVING UNDER THE INFLUENCE')\\\n",
    "    .map(lambda x: (x.DayOfWeek, 1))\\\n",
    "    .reduceByKey(lambda x,y: x+y)\\\n",
    "    .takeOrdered(7, key=lambda x: -x[1])"
   ]
  },
  {
   "cell_type": "code",
   "execution_count": 20,
   "metadata": {},
   "outputs": [
    {
     "name": "stdout",
     "output_type": "stream",
     "text": [
      "CPU times: user 30.2 ms, sys: 3.2 ms, total: 33.4 ms\n",
      "Wall time: 24.4 s\n"
     ]
    },
    {
     "data": {
      "text/plain": [
       "[((u'Saturday', u'DRIVING UNDER THE INFLUENCE'), 457),\n",
       " ((u'Sunday', u'DRIVING UNDER THE INFLUENCE'), 442),\n",
       " ((u'Friday', u'DRIVING UNDER THE INFLUENCE'), 352),\n",
       " ((u'Thursday', u'DRIVING UNDER THE INFLUENCE'), 282),\n",
       " ((u'Monday', u'DRIVING UNDER THE INFLUENCE'), 263),\n",
       " ((u'Tuesday', u'DRIVING UNDER THE INFLUENCE'), 251),\n",
       " ((u'Wednesday', u'DRIVING UNDER THE INFLUENCE'), 221)]"
      ]
     },
     "execution_count": 20,
     "metadata": {},
     "output_type": "execute_result"
    }
   ],
   "source": [
    "%%time\n",
    "data.map(lambda x: ((x.DayOfWeek, x.Category), 1))\\\n",
    "    .reduceByKey(lambda x,y: x+y)\\\n",
    "    .filter(lambda x: x[0][1] == 'DRIVING UNDER THE INFLUENCE')\\\n",
    "    .takeOrdered(7, key=lambda x: -x[1])"
   ]
  },
  {
   "cell_type": "markdown",
   "metadata": {},
   "source": [
    "## Cuales son los distritos?"
   ]
  },
  {
   "cell_type": "code",
   "execution_count": 22,
   "metadata": {},
   "outputs": [
    {
     "data": {
      "text/plain": [
       "[u'CENTRAL',\n",
       " u'NORTHERN',\n",
       " u'SOUTHERN',\n",
       " u'PARK',\n",
       " u'TENDERLOIN',\n",
       " u'RICHMOND',\n",
       " u'TARAVAL',\n",
       " u'BAYVIEW',\n",
       " u'INGLESIDE',\n",
       " u'MISSION']"
      ]
     },
     "execution_count": 22,
     "metadata": {},
     "output_type": "execute_result"
    }
   ],
   "source": [
    "data.map(lambda x: (x.PdDistrict)).distinct().collect()"
   ]
  },
  {
   "cell_type": "markdown",
   "metadata": {},
   "source": [
    "## Cuales son las resolutions?"
   ]
  },
  {
   "cell_type": "code",
   "execution_count": 24,
   "metadata": {},
   "outputs": [
    {
     "data": {
      "text/plain": [
       "[u'NONE',\n",
       " u'JUVENILE DIVERTED',\n",
       " u'COMPLAINANT REFUSES TO PROSECUTE',\n",
       " u'DISTRICT ATTORNEY REFUSES TO PROSECUTE',\n",
       " u'PSYCHOPATHIC CASE',\n",
       " u'PROSECUTED FOR LESSER OFFENSE',\n",
       " u'JUVENILE ADMONISHED',\n",
       " u'ARREST, CITED',\n",
       " u'NOT PROSECUTED',\n",
       " u'ARREST, BOOKED',\n",
       " u'EXCEPTIONAL CLEARANCE',\n",
       " u'UNFOUNDED',\n",
       " u'LOCATED',\n",
       " u'JUVENILE CITED',\n",
       " u'JUVENILE BOOKED',\n",
       " u'PROSECUTED BY OUTSIDE AGENCY',\n",
       " u'CLEARED-CONTACT JUVENILE FOR MORE INFO']"
      ]
     },
     "execution_count": 24,
     "metadata": {},
     "output_type": "execute_result"
    }
   ],
   "source": [
    "data.map(lambda x: (x.Resolution)).distinct().collect()"
   ]
  },
  {
   "cell_type": "markdown",
   "metadata": {},
   "source": [
    "## Categoría con mayor porcentaje de resolución “Not Prosecuted”"
   ]
  },
  {
   "cell_type": "code",
   "execution_count": 25,
   "metadata": {},
   "outputs": [
    {
     "data": {
      "text/plain": [
       "[(u'FORGERY/COUNTERFEITING', (10609, 698)),\n",
       " (u'FRAUD', (16679, 946)),\n",
       " (u'BAD CHECKS', (406, 19))]"
      ]
     },
     "execution_count": 25,
     "metadata": {},
     "output_type": "execute_result"
    }
   ],
   "source": [
    "data.map(lambda x: (x.Category, (1, int(x.Resolution == 'NOT PROSECUTED'))))\\\n",
    "    .reduceByKey(lambda x,y: (x[0]+y[0], x[1]+y[1]))\\\n",
    "    .takeOrdered(3, key=lambda x: -(float(x[1][1])/x[1][0]))"
   ]
  },
  {
   "cell_type": "markdown",
   "metadata": {},
   "source": [
    "## Spark SQL"
   ]
  },
  {
   "cell_type": "code",
   "execution_count": null,
   "metadata": {},
   "outputs": [],
   "source": [
    "dataframe.registerTempTable(\"crimes\")\n",
    "sqlCtx.sql(\"select distinct Category from crimes\").collect()"
   ]
  },
  {
   "cell_type": "code",
   "execution_count": null,
   "metadata": {},
   "outputs": [],
   "source": [
    "sqlCtx.sql(\"select distinct Category from crimes order by Category\").collect()"
   ]
  },
  {
   "cell_type": "markdown",
   "metadata": {},
   "source": [
    "## 10 delitos más comunes con SQL"
   ]
  },
  {
   "cell_type": "code",
   "execution_count": null,
   "metadata": {},
   "outputs": [],
   "source": [
    "sql = \"select Category, count(*) as crimes_count from crimes \"\n",
    "sql += \"group by Category order by crimes_count desc limit 10\"\n",
    "sqlCtx.sql(sql).collect()"
   ]
  },
  {
   "cell_type": "markdown",
   "metadata": {},
   "source": [
    "## Día de la semana con más casos de 'Driving under the influence'"
   ]
  },
  {
   "cell_type": "code",
   "execution_count": null,
   "metadata": {},
   "outputs": [],
   "source": [
    "sql = \"select DayOfWeek, count(*) as crimes_count from crimes \"\n",
    "sql += \"where Category == 'DRIVING UNDER THE INFLUENCE'\"\n",
    "sql += \" group by DayOfWeek order by crimes_count desc limit 1\"\n",
    "sqlCtx.sql(sql).collect()"
   ]
  },
  {
   "cell_type": "code",
   "execution_count": null,
   "metadata": {},
   "outputs": [],
   "source": []
  }
 ],
 "metadata": {
  "kernelspec": {
   "display_name": "Python 2",
   "language": "python",
   "name": "python2"
  },
  "language_info": {
   "codemirror_mode": {
    "name": "ipython",
    "version": 2
   },
   "file_extension": ".py",
   "mimetype": "text/x-python",
   "name": "python",
   "nbconvert_exporter": "python",
   "pygments_lexer": "ipython2",
   "version": "2.7.15rc1"
  }
 },
 "nbformat": 4,
 "nbformat_minor": 1
}
